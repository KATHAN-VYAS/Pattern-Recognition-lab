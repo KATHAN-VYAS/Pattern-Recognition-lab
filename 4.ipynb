{
 "cells": [
  {
   "cell_type": "markdown",
   "id": "0ff5d513",
   "metadata": {},
   "source": [
    "performing Locally Linear Embedding "
   ]
  },
  {
   "cell_type": "code",
   "execution_count": 2,
   "id": "d7ec4539",
   "metadata": {},
   "outputs": [
    {
     "data": {
      "text/plain": [
       "'\\n used to reduce the number of dimensions in a dataset\\n unsupervised method\\n \\n steps:\\n 1. Neighborhood Selection: k nearest neighbour\\n 2. Weight Matrix Construction: set of weights for each data point to express it as a linear combination of its neighbors\\n 3. Global Structure Preservation: find a lower-dimensional representation of the data that best preserves the local linear relationships.\\n 4. Output Embedding: LLE provides the final lower-dimensional representation of the data\\n \\n'"
      ]
     },
     "execution_count": 2,
     "metadata": {},
     "output_type": "execute_result"
    }
   ],
   "source": [
    "'''\n",
    " used to reduce the number of dimensions in a dataset\n",
    " unsupervised method\n",
    " \n",
    " steps:\n",
    " 1. Neighborhood Selection: k nearest neighbour\n",
    " 2. Weight Matrix Construction: set of weights for each data point to express it as a linear combination of its neighbors\n",
    " 3. Global Structure Preservation: find a lower-dimensional representation of the data that best preserves the local linear relationships.\n",
    " 4. Output Embedding: LLE provides the final lower-dimensional representation of the data\n",
    " \n",
    "'''"
   ]
  },
  {
   "cell_type": "code",
   "execution_count": 1,
   "id": "082f76eb",
   "metadata": {},
   "outputs": [],
   "source": [
    "import numpy as np\n"
   ]
  },
  {
   "cell_type": "code",
   "execution_count": 3,
   "id": "c31f87dc",
   "metadata": {},
   "outputs": [],
   "source": [
    "# step:1 - Define the given points\n",
    "\n",
    "X= np.array([[0,0],[2,0],\n",
    "    [0,3],\n",
    "    [1,1.5],\n",
    "    [0.2,0.5]])"
   ]
  },
  {
   "cell_type": "code",
   "execution_count": 6,
   "id": "28d92f69",
   "metadata": {},
   "outputs": [
    {
     "name": "stdout",
     "output_type": "stream",
     "text": [
      "[[0.         2.         3.         1.80277564 0.53851648]\n",
      " [2.         0.         3.60555128 1.80277564 1.86815417]\n",
      " [3.         3.60555128 0.         1.80277564 2.50798724]\n",
      " [1.80277564 1.80277564 1.80277564 0.         1.28062485]\n",
      " [0.53851648 1.86815417 2.50798724 1.28062485 0.        ]]\n"
     ]
    }
   ],
   "source": [
    "# step:2 - compute pairwise distances\n",
    "\n",
    "n = X.shape[0]\n",
    "distance = np.zeros((n,n))\n",
    "\n",
    "for i in range (n):\n",
    "    for j in range(n):\n",
    "        distance[i, j] = np.sqrt(np.sum((X[i] - X[j])**2))\n",
    "        \n",
    "print(distance)"
   ]
  },
  {
   "cell_type": "code",
   "execution_count": null,
   "id": "418c6cdc",
   "metadata": {},
   "outputs": [
    {
     "name": "stdout",
     "output_type": "stream",
     "text": [
      "Nearest neighbours of X1: [4 3]\n"
     ]
    }
   ],
   "source": [
    "# Step 3: Nearest neighbours for X1\n",
    "k = 2\n",
    "i = 0 \n",
    "\n",
    "neighbors_idx = np.argsort(distance[i])[1:k+1] # to avoid 0 distance\n",
    "print(\"Nearest neighbours of X1:\", neighbors_idx)"
   ]
  },
  {
   "cell_type": "code",
   "execution_count": 8,
   "id": "c18f15bd",
   "metadata": {},
   "outputs": [
    {
     "name": "stdout",
     "output_type": "stream",
     "text": [
      "Local covariance matrix:\n",
      " [[0.29 0.95]\n",
      " [0.95 3.25]]\n"
     ]
    }
   ],
   "source": [
    "# Step 4: Construct local covariance\n",
    "neighbors = X[neighbors_idx]\n",
    "Z = (neighbors - X[i]).T    \n",
    "C = Z.T @ Z\n",
    "print(\"Local covariance matrix:\\n\", C)"
   ]
  },
  {
   "cell_type": "code",
   "execution_count": 9,
   "id": "fb2c346d",
   "metadata": {},
   "outputs": [
    {
     "name": "stdout",
     "output_type": "stream",
     "text": [
      "Weights: [ 1.40243902 -0.40243902]\n"
     ]
    }
   ],
   "source": [
    "# Step 5: Solve for weights\n",
    "ones = np.ones(k)\n",
    "w = np.linalg.solve(C, ones)\n",
    "w = w / np.sum(w)  # affine constraint\n",
    "print(\"Weights:\", w)"
   ]
  },
  {
   "cell_type": "code",
   "execution_count": 10,
   "id": "20c7d467",
   "metadata": {},
   "outputs": [
    {
     "name": "stdout",
     "output_type": "stream",
     "text": [
      "Reconstructed X1: [-0.12195122  0.09756098]\n",
      "Original X1: [0. 0.]\n"
     ]
    }
   ],
   "source": [
    "# Step 6: Reconstruct X1\n",
    "x_reconstructed = np.dot(w, neighbors)\n",
    "print(\"Reconstructed X1:\", x_reconstructed)\n",
    "print(\"Original X1:\", X[i])"
   ]
  }
 ],
 "metadata": {
  "kernelspec": {
   "display_name": "Python 3",
   "language": "python",
   "name": "python3"
  },
  "language_info": {
   "codemirror_mode": {
    "name": "ipython",
    "version": 3
   },
   "file_extension": ".py",
   "mimetype": "text/x-python",
   "name": "python",
   "nbconvert_exporter": "python",
   "pygments_lexer": "ipython3",
   "version": "3.12.4"
  }
 },
 "nbformat": 4,
 "nbformat_minor": 5
}
